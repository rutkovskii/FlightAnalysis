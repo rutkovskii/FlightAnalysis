{
  "nbformat": 4,
  "nbformat_minor": 0,
  "metadata": {
    "colab": {
      "name": "RusAirtraffic.ipynb",
      "provenance": [],
      "collapsed_sections": [],
      "mount_file_id": "1KhFmsOE8ST_Ltkz07c4yFNBWQDzNm0TU",
      "authorship_tag": "ABX9TyNniZVtMjx3u5EcBlb+Q9vf",
      "include_colab_link": true
    },
    "kernelspec": {
      "name": "python3",
      "display_name": "Python 3"
    },
    "language_info": {
      "name": "python"
    }
  },
  "cells": [
    {
      "cell_type": "markdown",
      "metadata": {
        "id": "view-in-github",
        "colab_type": "text"
      },
      "source": [
        "<a href=\"https://colab.research.google.com/github/rutkovskii/FlightAnalysis/blob/main/RusAirtraffic.ipynb\" target=\"_parent\"><img src=\"https://colab.research.google.com/assets/colab-badge.svg\" alt=\"Open In Colab\"/></a>"
      ]
    },
    {
      "cell_type": "code",
      "source": [
        "# Imports\n",
        "import pandas as pd\n",
        "import requests \n",
        "from bs4 import BeautifulSoup\n",
        "import re\n",
        "from datetime import datetime\n",
        "\n",
        "import matplotlib.pyplot as plt\n",
        "\n",
        "\n",
        "def df_printer(df):\n",
        "  with pd.option_context('display.max_rows', None,):\n",
        "    print(df)"
      ],
      "metadata": {
        "id": "np3tiwx8rCu-"
      },
      "execution_count": null,
      "outputs": []
    },
    {
      "cell_type": "markdown",
      "source": [
        "# Exctracting Data"
      ],
      "metadata": {
        "id": "O85m6wrDv5Yk"
      }
    },
    {
      "cell_type": "markdown",
      "source": [
        "###Working with Flight Data"
      ],
      "metadata": {
        "id": "2eC0LjN9rSPO"
      }
    },
    {
      "cell_type": "code",
      "execution_count": null,
      "metadata": {
        "id": "mxBTSlVxqOD0"
      },
      "outputs": [],
      "source": [
        "# Read all flights for January and February 2022\n",
        "\n",
        "# Source: https://zenodo.org/record/6325961#.YkHzUzdBxQI\n",
        "\n",
        "flights_jan = pd.read_csv('/content/drive/MyDrive/FlightAnalysis/flightlist_20220101_20220131.csv')#('/content/flightlist_20220101_20220131.csv.gz')\n",
        "flights_feb = pd.read_csv('/content/drive/MyDrive/FlightAnalysis/flightlist_20220201_20220228.csv')#('/content/flightlist_20220201_20220228.csv.gz')"
      ]
    },
    {
      "cell_type": "code",
      "source": [
        "# Sneakpeak\n",
        "flights_jan.head()"
      ],
      "metadata": {
        "id": "KwhFW217rwAa"
      },
      "execution_count": null,
      "outputs": []
    },
    {
      "cell_type": "code",
      "source": [
        "# Attempt to find Pulkovo Airport in this data set \n",
        "# Origins and Destinations are written in ICAO codes\n",
        "# ICAO — International Civil Aviation Organization\n",
        "\n",
        "# Pulkovo's ICAO code: ULLI\n",
        "flights_jan.loc[flights_jan['origin'] == \"ULLI\"].head(10)\n"
      ],
      "metadata": {
        "id": "RR_voP01rZcP"
      },
      "execution_count": null,
      "outputs": []
    },
    {
      "cell_type": "markdown",
      "source": [
        "### Extracting International Airports and the Page "
      ],
      "metadata": {
        "id": "KPSX_hPBriAD"
      }
    },
    {
      "cell_type": "code",
      "source": [
        "# Getting tables with all international airports\n",
        "url = \"https://en.wikipedia.org/wiki/List_of_international_airports_by_country\"\n",
        "airport_dfs = pd.read_html(url)\n"
      ],
      "metadata": {
        "id": "w7I2ZITWMqRu"
      },
      "execution_count": null,
      "outputs": []
    },
    {
      "cell_type": "code",
      "source": [
        "# Getting names of the countries\n",
        "\n",
        "url = \"https://en.wikipedia.org/wiki/List_of_international_airports_by_country\"\n",
        "response=requests.get(url)\n",
        "print(response.status_code)\n"
      ],
      "metadata": {
        "id": "M_W7HhGvN-F3"
      },
      "execution_count": null,
      "outputs": []
    },
    {
      "cell_type": "markdown",
      "source": [
        "### Getting DFs with IATA and ICAO Codes"
      ],
      "metadata": {
        "id": "2hXqUQECrvhi"
      }
    },
    {
      "cell_type": "code",
      "source": [
        "# Getting codes\n",
        "url = \"http://www.flugzeuginfo.net/table_airportcodes_country-location_en.php\"\n",
        "iata_icao_dfs = pd.read_html(url)\n",
        "\n",
        "len(iata_icao_dfs)\n",
        "iata_icao_dfs[0]\n"
      ],
      "metadata": {
        "id": "Tss2G-9yn8Uk"
      },
      "execution_count": null,
      "outputs": []
    },
    {
      "cell_type": "markdown",
      "source": [
        "### Getting Names and ICAO codes of Russian Airports"
      ],
      "metadata": {
        "id": "r6z-S66yr5dl"
      }
    },
    {
      "cell_type": "code",
      "source": [
        "# Getting tables with all Russian airports\n",
        "\n",
        "ru_aiports_raw = pd.read_html(\"https://en.wikipedia.org/wiki/List_of_airports_in_Russia\")\n",
        "\n",
        "# We need 1st table because it contains the relevant data\n",
        "ru_aiports_raw = ru_aiports_raw[0]\n",
        "\n",
        "#df_printer(ru_aiports)"
      ],
      "metadata": {
        "id": "R9ggJ0BpLK7W"
      },
      "execution_count": null,
      "outputs": []
    },
    {
      "cell_type": "markdown",
      "source": [
        "# Cleaning Data"
      ],
      "metadata": {
        "id": "6cSq6LFTv_y2"
      }
    },
    {
      "cell_type": "markdown",
      "source": [
        "## Create Dataframes\n",
        "Combining tables with country names\n",
        "\n",
        "Ps. Could have actually avoided using it because ```iata_icao_dfs``` have Country names corresponding with ICAO and IATA codes\n",
        "\n"
      ],
      "metadata": {
        "id": "AnLvf9fPRNkN"
      }
    },
    {
      "cell_type": "markdown",
      "source": [
        "###Find Country for each table"
      ],
      "metadata": {
        "id": "CFBKerhdlh0D"
      }
    },
    {
      "cell_type": "code",
      "source": [
        "soup = BeautifulSoup(response.text, 'html.parser')\n",
        "\n",
        "\n",
        "# Extract all Countries before Oceania\n",
        "countries = []\n",
        "\n",
        "for level in soup.find_all('li',{'class':'toclevel-3'}):\n",
        "  #hit = level.text.strip()\n",
        "  country = level.find('span',{'class':'toctext'}).text.strip()\n",
        "  countries.append(country)\n",
        "\n",
        "print(len(countries))\n",
        "\n",
        "\n",
        "# Extract Oceania countries\n",
        "t1 = soup.find('li',{'class':\"toclevel-1 tocsection-234\"})\n",
        "\n",
        "for level in t1.find_all('li',{'class':'toclevel-2'}):\n",
        "  country = level.find('span',{'class':'toctext'}).text.strip()\n",
        "  countries.append(country)\n",
        "\n",
        "print(len(countries))"
      ],
      "metadata": {
        "id": "vO-lrcwboVaI"
      },
      "execution_count": null,
      "outputs": []
    },
    {
      "cell_type": "markdown",
      "source": [
        "###Match airport codes with country naames"
      ],
      "metadata": {
        "id": "fX3UcFz-lqr2"
      }
    },
    {
      "cell_type": "code",
      "source": [
        "# Remove table that is not the airport table\n",
        "print(len(airport_dfs))\n",
        "if len(airport_dfs) > 234:\n",
        "  airport_dfs.pop(0)\n",
        "print(len(airport_dfs))\n",
        "\n",
        "# Cleaning Columns and Assigning country to the airport\n",
        "i = 0 \n",
        "modified_airport_dfs = []\n",
        "for df in airport_dfs:\n",
        "  if \"IATA Code\" in df.columns:\n",
        "    df.rename(columns={\"IATA Code\": \"IATA\"},inplace=True)\n",
        "  m_df = df[[\"IATA\",\"Airport\"]]\n",
        "\n",
        "  # Assigning counttry\n",
        "  m_df.insert(2, 'Country', countries[i])\n",
        "  modified_airport_dfs.append(m_df)\n",
        "\n",
        "  i+=1\n",
        "\n",
        "# Creating 1 dataframe with all international airports, but without their codes\n",
        "iata_df = pd.concat(modified_airport_dfs)\n",
        "iata_df.reset_index(drop=True,inplace=True)\n",
        "len(iata_df)\n",
        "iata_df"
      ],
      "metadata": {
        "id": "0wsh7FwGN-m9"
      },
      "execution_count": null,
      "outputs": []
    },
    {
      "cell_type": "code",
      "source": [
        "# Create table with all international airports and their codes\n",
        "\n",
        "iata_icao_df = pd.concat(iata_icao_dfs)\n",
        "iata_icao_df"
      ],
      "metadata": {
        "id": "zksPdQ7vo1tD"
      },
      "execution_count": null,
      "outputs": []
    },
    {
      "cell_type": "markdown",
      "source": [
        "###Internation Airports DF"
      ],
      "metadata": {
        "id": "eOi4vIK_lXDr"
      }
    },
    {
      "cell_type": "code",
      "source": [
        "\n",
        "# Merging iata_df and iata_icao_df\n",
        "int_airport_df = pd.merge(iata_df, iata_icao_df[['IATA','ICAO']], on='IATA', how=\"left\") #check left and right merging\n",
        "\n",
        "# Cleaning int_airport_df\n",
        "INT_AIRPORTS = int_airport_df[['IATA','ICAO','Country','Airport']].drop_duplicates(subset=['IATA'], keep='first')\n",
        "INT_AIRPORTS.reset_index(drop=True,inplace=True)\n",
        "\n",
        "# Check for duplicates \n",
        "#INT_AIRPORTS['ICAO'].value_counts()\n",
        "#df = INT_AIRPORTS.loc[INT_AIRPORTS['ICAO'] == 'UGGG']\n",
        "#df\n"
      ],
      "metadata": {
        "id": "A_9wEmsnuy3E"
      },
      "execution_count": null,
      "outputs": []
    },
    {
      "cell_type": "markdown",
      "source": [
        "###DF with Russian Airports\n"
      ],
      "metadata": {
        "id": "ZlqkBvnjmpgj"
      }
    },
    {
      "cell_type": "code",
      "source": [
        "# Relevant Columns + Removing Nan in ICAO column\n",
        "RU_AIRPORTS = ru_aiports_raw[[\"Airport name\",\"ICAO\"]].dropna(subset=['ICAO'])\n",
        "RU_AIRPORTS[\"Country\"] = \"Russia\"\n",
        "RU_AIRPORTS.rename(columns={\"Airport name\": \"Airport\"},inplace=True)\n",
        "\n",
        "#RU_AIRPORTS = RU_AIRPORTS.dropna(subset=['ICAO'])\n",
        "\n",
        "# Dropping the rows with unused airports, with region names, and Simferopol, since it is not internation \n",
        "print(\"Size of df before:\", len(RU_AIRPORTS))\n",
        "\n",
        "discard = [\"abandoned\",\"closed\",\"edit\",\"Simferopol\"]\n",
        "RU_AIRPORTS = RU_AIRPORTS[~RU_AIRPORTS[\"Airport\"].str.contains('|'.join(discard))]\n",
        "RU_AIRPORTS.reset_index(drop=True,inplace=True)\n",
        "\n",
        "# Check for duplicates\n",
        "#print(RU_AIRPORTS['ICAO'].value_counts())\n",
        "\n",
        "# Degugging\n",
        "#df = RU_AIRPORTS.loc[RU_AIRPORTS['ICAO'] == 'UIII']\n",
        "#print(df)\n",
        "\n",
        "#Ozernaya and Sobolevo airports have the same ICAO code\n",
        "\n",
        "print(\"Size of df before:\", len(RU_AIRPORTS))\n",
        "\n",
        "print(RU_AIRPORTS)\n",
        "# To see names of the airports\n",
        "#for row in RU_AIRPORTS[\"Airport\"]:\n",
        "# print(row)\n"
      ],
      "metadata": {
        "id": "v6K1m02ZyXRT"
      },
      "execution_count": null,
      "outputs": []
    },
    {
      "cell_type": "markdown",
      "source": [
        "###Flights Df"
      ],
      "metadata": {
        "id": "DZgLp0h1lLPK"
      }
    },
    {
      "cell_type": "code",
      "source": [
        "# flights_jan\n",
        "flights_jan = flights_jan[[\"origin\",\"destination\",\"day\"]]\n",
        "print(len(flights_feb))\n",
        "\n",
        "# flights22\n",
        "flights_feb = flights_feb[[\"origin\",\"destination\",\"day\"]]\n",
        "print(len(flights_feb))\n",
        "\n",
        "# All flights df\n",
        "flights = pd.concat([flights_jan,flights_feb])\n",
        "print(len(flights))\n",
        "print(flights.columns)\n"
      ],
      "metadata": {
        "id": "DjH5hnQQvy0-"
      },
      "execution_count": null,
      "outputs": []
    },
    {
      "cell_type": "markdown",
      "source": [
        "###Shorten flights DF with \"origin\" only containing Russian Airports "
      ],
      "metadata": {
        "id": "k4DoscWkn21e"
      }
    },
    {
      "cell_type": "code",
      "source": [
        "# Keep only flights with NaN and Russian Airport codes in \"origin\" column \n",
        "FLIGHTS = flights[flights['origin'].isin(RU_AIRPORTS['ICAO'])].copy()\n",
        "print(len(flights))\n",
        "\n",
        "# Drop NaN \n",
        "FLIGHTS.dropna(inplace=True)\n",
        "print(len(FLIGHTS))\n",
        "\n",
        "# Change 'day' from str to datetime\n",
        "FLIGHTS['day'] = pd.to_datetime(FLIGHTS['day'], format=\"%Y/%m/%d\").dt.date\n",
        "\n",
        "#flights.head(50)"
      ],
      "metadata": {
        "id": "Kp7bpKPBn2P2"
      },
      "execution_count": null,
      "outputs": []
    },
    {
      "cell_type": "markdown",
      "source": [
        "###Downloading Cleaned DFs\n"
      ],
      "metadata": {
        "id": "9FqVanyqATj-"
      }
    },
    {
      "cell_type": "code",
      "source": [
        "#from google.colab import files\n",
        "\n",
        "#FLIGHTS.to_csv(\"all_flights.csv\")\n",
        "#RU_AIRPORTS.to_csv(\"russian_airports.csv\")\n",
        "#INT_AIRPORTS.to_csv(\"international_airports.csv\")\n",
        "\n",
        "\n",
        "#files.download(\"all_flights.csv\")\n",
        "#files.download(\"russian_airports.csv\")\n",
        "#files.download(\"international_airports.csv\")\n",
        "\n",
        "\n"
      ],
      "metadata": {
        "id": "PyhBJ4zHFqOy"
      },
      "execution_count": null,
      "outputs": []
    },
    {
      "cell_type": "markdown",
      "source": [
        "# Creating Interface for people to work\n",
        "\n",
        "*  Will be transferred to the Telegram Bot Functionality\n",
        "\n"
      ],
      "metadata": {
        "id": "E8nKMKGunpRr"
      }
    },
    {
      "cell_type": "code",
      "source": [
        "user_input = input(\"What Day and Airport in Russia? \\n\" +\n",
        "                  \"It accepts only 'dd mm yyyy' format. \\nFor example: \\n\" +\n",
        "                   \"\\t01-01-2022, Sheremetyevo\\n\" +\n",
        "                   \"\\t01/01/2022, Sheremetyevo\\n\" \n",
        "                   \"\\t01-January-2022, Sheremetyevo\\n\" + \n",
        "                   \"\\t01 January 2022, Sheremetyevo:  \" )\n",
        "\n"
      ],
      "metadata": {
        "id": "-_1OOyp9xcB8"
      },
      "execution_count": null,
      "outputs": []
    },
    {
      "cell_type": "code",
      "source": [
        "RU_AIRPORTS_2=RU_AIRPORTS.copy()\n",
        "\n",
        "def pop_printer(df,option:str):\n",
        "  \"\"\"Prints most travelled destinations or countries\"\"\"\n",
        "  i=1\n",
        "  for index,row in df.iterrows():\n",
        "    if pd.isnull(row['Country']):\n",
        "      continue\n",
        "\n",
        "    if i == 1: suffix = \"st\"\n",
        "    elif i == 2: suffix = \"nd\"\n",
        "    elif i == 3: suffix = \"rd\"\n",
        "    elif i == 4 or i == 5: suffix = \"th\"\n",
        "\n",
        "    if option == \"dest\":\n",
        "      print(f\"**{i}{suffix} most traveled destination is {row['Airport']}, {row['Country']} with {row['Amount']} flight(s).\")\n",
        "    elif option == \"country\":\n",
        "      print(f\"**{i}{suffix} most traveled is country {row['Country']} with {row['Amount']} flight(s).\")\n",
        "      \n",
        "    i+=1\n",
        "    if i == 6: break\n",
        "  \n",
        "def pop_df_cleaner(df,option):\n",
        "  \"\"\"Creates lists with the most travelled destinations or countries to be plotted\"\"\"\n",
        "  x,y = [],[]\n",
        "  i=1 \n",
        "  for index,row in df.iterrows():\n",
        "\n",
        "    if pd.isnull(row['Country']):\n",
        "      continue\n",
        "\n",
        "    if option == \"dest\":\n",
        "      if pd.isnull(row['Airport']):\n",
        "        continue\n",
        "\n",
        "    y.append(row['Amount'])\n",
        "    if option == \"country\":\n",
        "      x.append(row['Country'])\n",
        "    elif option == \"dest\":\n",
        "      x.append(row[\"Airport\"]+', '+ row['Country'])\n",
        "\n",
        "    i+=1\n",
        "    if i == 6: break\n",
        "\n",
        "  return x,y\n",
        "\n",
        "\n",
        "def create_plt(df,option):\n",
        "  \"\"\"Creates the barplot with the most travelled destinations or countries\"\"\"\n",
        "  x, y = pop_df_cleaner(df, option)\n",
        "  fig = plt.figure()\n",
        "\n",
        "  if option == \"dest\":\n",
        "      plt.title('Destination Airports Vs Amount of Flights', fontsize=14, pad=20)\n",
        "      plt.xlabel('Destination Airports', fontsize=11)\n",
        "\n",
        "  elif option == \"country\":\n",
        "      plt.title('Country Vs Amount of Flights', fontsize=14, pad=20)\n",
        "      plt.xlabel('Country', fontsize=11)\n",
        "\n",
        "  plt.ylabel('Amount of Flights', fontsize=10)\n",
        "  plt.xticks(range(0,len(x)),x, fontsize=8, rotation=45)\n",
        "  plt.margins(y=0.2)\n",
        "  plt.bar(x=x, height=y)\n",
        "  plt.show()\n",
        "\n",
        "\n",
        "\n",
        "\n",
        "user_date_status, user_airport_status = False, False\n",
        "while not user_date_status and not user_airport_status:\n",
        "  user_date_status, user_airport_status = False, False\n",
        "  # User input\n",
        "  #user_input = \"01 01 2022, Sheremetyevo\" # \"31 December 1900 Sheremetyevo\" # \"Abra\"\n",
        "\n",
        "  # Separate date and airport\n",
        "  elements = user_input.split(',')\n",
        "\n",
        "  # Not comma separated\n",
        "  if len(elements) < 2:\n",
        "    print('You forgot to add comma after date. Enter Date and Airport Again')\n",
        "    continue\n",
        "\n",
        "  # Missing airport or date\n",
        "  if (elements[0] == \"\") or (elements[1] == \"\"):\n",
        "    print('You forgot to add date or airport. Enter Date and Airport Again')\n",
        "    continue\n",
        "\n",
        "  # Cleaning date \n",
        "  user_date = elements[0]\n",
        "  user_date.replace('-',' ').replace('/',' ')\n",
        "\n",
        "  # Getting Date from User input\n",
        "  pattern = r\"\\d{2} \\d{2} \\d{4}\" + \"|\\d{2} \\w+ \\d{4}\"\n",
        "  match = re.search(pattern, user_date)\n",
        "\n",
        "  # If invalid Date\n",
        "  if not match:\n",
        "    print('You entered invalid date. Enter Date and Airport Again')\n",
        "    continue\n",
        "\n",
        "  # Extracting all elements in the string\n",
        "  month = user_date.split(' ')[1]\n",
        "\n",
        "  # Converting to data\n",
        "  if month.isdigit():\n",
        "    date = datetime.strptime(match.group(), '%d %m %Y').date()\n",
        "  else: \n",
        "    date = datetime.strptime(match.group(), '%d %B %Y').date()\n",
        "\n",
        "  #print(date)\n",
        "  if date:\n",
        "    user_date_status = True\n",
        "\n",
        "  # Airport\n",
        "  user_airport = elements[1].strip()\n",
        "\n",
        "  # Find ICAO code for airport\n",
        "  ru_port = RU_AIRPORTS[RU_AIRPORTS[\"Airport\"].str.contains(user_airport)]\n",
        "\n",
        "\n",
        "  if ru_port.empty:\n",
        "    print('You entered incorrect airport name. Enter Date and Airport Again')\n",
        "    continue\n",
        "\n",
        "  icao = ru_port.iloc[0][1]\n",
        "\n",
        "  if icao:\n",
        "    # can be a method\n",
        "\n",
        "    # cleaning on the day of flight \n",
        "    \n",
        "    ru_port_flights = FLIGHTS.loc[FLIGHTS['day'] == date]\n",
        "    #print(FLIGHTS)\n",
        "    #print(date)\n",
        "    #print(FLIGHTS.loc[FLIGHTS['day'] == date])\n",
        "    #print(ru_port_flights)\n",
        "\n",
        "    # cleaning on origin Russian Airport and removing from-into flights\n",
        "    ru_port_flights = ru_port_flights.loc[ru_port_flights['origin'] == icao]\n",
        "    ru_port_flights = ru_port_flights.loc[ru_port_flights['destination'] != icao]\n",
        "\n",
        "\n",
        "    ################## Statistics ##################\n",
        "\n",
        "    #1\n",
        "    num_flights = len(ru_port_flights) # Number of flights from airport\n",
        "    if num_flights > 0:\n",
        "      user_airport_status = True\n",
        "\n",
        "    # df with unique destinations (not to use because does not have countiees)\n",
        "    unique_dests_df = ru_port_flights[\"destination\"].value_counts().rename_axis('ICAO').reset_index(name='Amount')\n",
        "  \n",
        "    #2\n",
        "    num_unique_dests = unique_dests_df.shape[0] #alternatively len(unique_dests_df)\n",
        "\n",
        "    #3 \n",
        "    # Unique destinations\n",
        "    most_visited_dests = INT_AIRPORTS.merge(unique_dests_df, on='ICAO', how='right')\n",
        "    most_visited_dests = most_visited_dests.set_index('ICAO')\n",
        "    RU_AIRPORTS_2 = RU_AIRPORTS_2.set_index('ICAO')\n",
        "    most_visited_dests.update(RU_AIRPORTS_2)\n",
        "    most_visited_dests.reset_index(inplace=True)\n",
        "    RU_AIRPORTS_2.reset_index(inplace=True)\n",
        "    most_visited_dests = most_visited_dests[[\"ICAO\",\"Country\",\"Airport\",\"Amount\"]]\n",
        "\n",
        " \n",
        "    # Unique countries (omitting NaNs)\n",
        "    most_visited_countries = most_visited_dests.loc[most_visited_dests[\"Country\"] != \"Russia\"].dropna().copy()\n",
        "    #print(most_visited_countries['Country'].unique())\n",
        "    countries, amounts = [],[]\n",
        "    for country in most_visited_countries['Country'].unique():\n",
        "        countries.append(country)\n",
        "        amount = 0\n",
        "        for index, row in most_visited_countries.iterrows():\n",
        "            if country == row['Country']:\n",
        "                amount += row['Amount']\n",
        "        amounts.append(amount)\n",
        "\n",
        "    most_visited_countries = pd.DataFrame({'Country':countries,'Amount':amounts})\n",
        "\n",
        "    #4\n",
        "    num_unique_countries = most_visited_countries.shape[0] #alternatively len(unique_dests_df)\n",
        "\n",
        "\n",
        "\n",
        "\n",
        "    ################## Output ##################\n",
        "    #1\n",
        "    print(f\"*{num_flights} flight(s) were made from {ru_port.iloc[0][0]} on {date}.\\n\")\n",
        "    if num_flights > 0:\n",
        "      #2\n",
        "      print(f\"*To {num_unique_dests} unique destination(s).\")\n",
        "\n",
        "      #3\n",
        "      pop_printer(df=most_visited_dests,option=\"dest\")\n",
        "\n",
        "      #3.1\n",
        "      if num_unique_dests > 2:\n",
        "        create_plt(most_visited_dests,option=\"dest\")\n",
        "\n",
        "      #4\n",
        "      print(f\"\\n*To {num_unique_countries} unique countries.\")\n",
        "\n",
        "      #5\n",
        "      pop_printer(df=most_visited_countries,option=\"country\")\n",
        "\n",
        "      #5.1\n",
        "      if num_unique_countries > 2:\n",
        "        create_plt(most_visited_countries,option=\"country\")\n",
        "\n",
        "\n",
        "# Desired Statistics:\n",
        "# 1. Amount of flights from the airport\n",
        "# 2. Amount  of unique destinations\n",
        "# 3. To what destinations and airports and the count of flights to these destination\n",
        "# 3-1. Diagram with the top travelled destinations (Matplotlib)\n",
        "# 4. Amount of unique countries\n",
        "# 5. To what countries and airports and the count of flights to these countries\n",
        "# 5-1. Diagram with the top travelled countries (Matplotlib)\n",
        "\n"
      ],
      "metadata": {
        "id": "aEDR2vVI3ynL"
      },
      "execution_count": null,
      "outputs": []
    }
  ]
}